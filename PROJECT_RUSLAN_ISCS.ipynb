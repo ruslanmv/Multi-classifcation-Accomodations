{
 "cells": [
  {
   "cell_type": "markdown",
   "metadata": {},
   "source": [
    "<img src=\"logo_Iscs.png\">"
   ]
  },
  {
   "cell_type": "markdown",
   "metadata": {},
   "source": [
    "# Multiclass Classification Project \n",
    "by Ruslan Magana Vsevolodovna\n",
    "\n",
    "Genova November 2020"
   ]
  },
  {
   "cell_type": "markdown",
   "metadata": {},
   "source": [
    "<img src=\"accomodation.jpg\">"
   ]
  },
  {
   "cell_type": "markdown",
   "metadata": {},
   "source": [
    "In this project we are going to classify the accomodations given by some features collected in one dataset.\n",
    "The target is the classification of the following types of accomodations:\n",
    "\n",
    "1. Hotel 1-3 stelle\n",
    "\n",
    "2. Hotel 4 stelle e oltre\n",
    "\n",
    "3. Bed & Breakfast\n",
    "\n",
    "4. Campeggi\n",
    "\n",
    "5. Case/appartamenti\n",
    "\n"
   ]
  },
  {
   "cell_type": "markdown",
   "metadata": {},
   "source": [
    "### 1. Libraries"
   ]
  },
  {
   "cell_type": "code",
   "execution_count": 4,
   "metadata": {},
   "outputs": [],
   "source": [
    "import pandas as pd"
   ]
  },
  {
   "cell_type": "code",
   "execution_count": 22,
   "metadata": {},
   "outputs": [],
   "source": [
    "import numpy as np\n",
    "import matplotlib.pyplot as plt\n",
    "import itertools\n",
    "from sklearn import datasets\n",
    "from sklearn.preprocessing import LabelEncoder\n",
    "from sklearn.model_selection import train_test_split, KFold, GridSearchCV\n",
    "from sklearn.metrics import confusion_matrix, classification_report, accuracy_score\n",
    "from keras.models import Sequential\n",
    "from keras.layers import Dense\n",
    "from keras.utils import to_categorical\n",
    "from keras.wrappers.scikit_learn import KerasClassifier"
   ]
  },
  {
   "cell_type": "code",
   "execution_count": null,
   "metadata": {},
   "outputs": [],
   "source": []
  },
  {
   "cell_type": "markdown",
   "metadata": {},
   "source": [
    "### 2. Data Wrangling"
   ]
  },
  {
   "cell_type": "code",
   "execution_count": 5,
   "metadata": {},
   "outputs": [],
   "source": [
    "df=pd.read_csv ('classification_dataset.csv',sep = '\\t', )"
   ]
  },
  {
   "cell_type": "markdown",
   "metadata": {},
   "source": [
    "Replace NaN Values with Zeros in Pandas DataFrame\n",
    "For an entire DataFrame using Pandas:"
   ]
  },
  {
   "cell_type": "code",
   "execution_count": 6,
   "metadata": {},
   "outputs": [],
   "source": [
    "df=df.fillna(0)"
   ]
  },
  {
   "cell_type": "code",
   "execution_count": 8,
   "metadata": {},
   "outputs": [
    {
     "data": {
      "text/html": [
       "<div>\n",
       "<style scoped>\n",
       "    .dataframe tbody tr th:only-of-type {\n",
       "        vertical-align: middle;\n",
       "    }\n",
       "\n",
       "    .dataframe tbody tr th {\n",
       "        vertical-align: top;\n",
       "    }\n",
       "\n",
       "    .dataframe thead th {\n",
       "        text-align: right;\n",
       "    }\n",
       "</style>\n",
       "<table border=\"1\" class=\"dataframe\">\n",
       "  <thead>\n",
       "    <tr style=\"text-align: right;\">\n",
       "      <th></th>\n",
       "      <th>ID</th>\n",
       "      <th>PROVINCIA</th>\n",
       "      <th>COMUNE</th>\n",
       "      <th>LOCALITA</th>\n",
       "      <th>CAMERE</th>\n",
       "      <th>SUITE</th>\n",
       "      <th>LETTI</th>\n",
       "      <th>BAGNI</th>\n",
       "      <th>PRIMA_COLAZIONE</th>\n",
       "      <th>IN_ABITATO</th>\n",
       "      <th>...</th>\n",
       "      <th>ZONA_PERIFERICA</th>\n",
       "      <th>ZONA_STAZIONE_FS</th>\n",
       "      <th>ATTREZZATURE_VARIE</th>\n",
       "      <th>CARTE_ACCETTATE</th>\n",
       "      <th>LINGUE_PARLATE</th>\n",
       "      <th>SPORT</th>\n",
       "      <th>CONGRESSI</th>\n",
       "      <th>LATITUDINE</th>\n",
       "      <th>LONGITUDINE</th>\n",
       "      <th>OUTPUT</th>\n",
       "    </tr>\n",
       "  </thead>\n",
       "  <tbody>\n",
       "    <tr>\n",
       "      <th>0</th>\n",
       "      <td>0</td>\n",
       "      <td>BS</td>\n",
       "      <td>PERTICA BASSA</td>\n",
       "      <td>0</td>\n",
       "      <td>2</td>\n",
       "      <td>0</td>\n",
       "      <td>4</td>\n",
       "      <td>1</td>\n",
       "      <td>0</td>\n",
       "      <td>0.0</td>\n",
       "      <td>...</td>\n",
       "      <td>0.0</td>\n",
       "      <td>0.0</td>\n",
       "      <td>0</td>\n",
       "      <td>0</td>\n",
       "      <td>0</td>\n",
       "      <td>0</td>\n",
       "      <td>0</td>\n",
       "      <td>10.373501</td>\n",
       "      <td>45.751381</td>\n",
       "      <td>B&amp;B</td>\n",
       "    </tr>\n",
       "    <tr>\n",
       "      <th>1</th>\n",
       "      <td>1</td>\n",
       "      <td>BS</td>\n",
       "      <td>DESENZANO DEL GARDA</td>\n",
       "      <td>0</td>\n",
       "      <td>4</td>\n",
       "      <td>0</td>\n",
       "      <td>8</td>\n",
       "      <td>4</td>\n",
       "      <td>0</td>\n",
       "      <td>0.0</td>\n",
       "      <td>...</td>\n",
       "      <td>0.0</td>\n",
       "      <td>0.0</td>\n",
       "      <td>0</td>\n",
       "      <td>0</td>\n",
       "      <td>0</td>\n",
       "      <td>0</td>\n",
       "      <td>0</td>\n",
       "      <td>10.538947</td>\n",
       "      <td>45.469485</td>\n",
       "      <td>B&amp;B</td>\n",
       "    </tr>\n",
       "    <tr>\n",
       "      <th>2</th>\n",
       "      <td>2</td>\n",
       "      <td>BG</td>\n",
       "      <td>BERGAMO</td>\n",
       "      <td>0</td>\n",
       "      <td>1</td>\n",
       "      <td>0</td>\n",
       "      <td>2</td>\n",
       "      <td>1</td>\n",
       "      <td>0</td>\n",
       "      <td>0.0</td>\n",
       "      <td>...</td>\n",
       "      <td>0.0</td>\n",
       "      <td>0.0</td>\n",
       "      <td>Accettazione animali domestici</td>\n",
       "      <td>0</td>\n",
       "      <td>0</td>\n",
       "      <td>0</td>\n",
       "      <td>0</td>\n",
       "      <td>9.665355</td>\n",
       "      <td>45.704158</td>\n",
       "      <td>Case_Appartamenti</td>\n",
       "    </tr>\n",
       "    <tr>\n",
       "      <th>3</th>\n",
       "      <td>3</td>\n",
       "      <td>MN</td>\n",
       "      <td>MANTOVA</td>\n",
       "      <td>BOCCABUSA</td>\n",
       "      <td>93</td>\n",
       "      <td>2</td>\n",
       "      <td>194</td>\n",
       "      <td>96</td>\n",
       "      <td>0</td>\n",
       "      <td>0.0</td>\n",
       "      <td>...</td>\n",
       "      <td>0.0</td>\n",
       "      <td>0.0</td>\n",
       "      <td>Ascensore,Ristorante,Bar,Accettazione animali ...</td>\n",
       "      <td>American express,Visa,Master Card,Diners,Maest...</td>\n",
       "      <td>Inglese,Francese,Spagnolo,Tedesco,Rumeno,Serbo...</td>\n",
       "      <td>0</td>\n",
       "      <td>Numero sale congressi 3,Congressi capacita' Mi...</td>\n",
       "      <td>10.828175</td>\n",
       "      <td>45.165506</td>\n",
       "      <td>4_a_5_Stelle</td>\n",
       "    </tr>\n",
       "    <tr>\n",
       "      <th>4</th>\n",
       "      <td>4</td>\n",
       "      <td>MI</td>\n",
       "      <td>MILANO</td>\n",
       "      <td>0</td>\n",
       "      <td>2</td>\n",
       "      <td>0</td>\n",
       "      <td>4</td>\n",
       "      <td>1</td>\n",
       "      <td>0</td>\n",
       "      <td>0.0</td>\n",
       "      <td>...</td>\n",
       "      <td>0.0</td>\n",
       "      <td>0.0</td>\n",
       "      <td>0</td>\n",
       "      <td>0</td>\n",
       "      <td>0</td>\n",
       "      <td>0</td>\n",
       "      <td>0</td>\n",
       "      <td>9.151637</td>\n",
       "      <td>45.457177</td>\n",
       "      <td>Case_Appartamenti</td>\n",
       "    </tr>\n",
       "  </tbody>\n",
       "</table>\n",
       "<p>5 rows × 25 columns</p>\n",
       "</div>"
      ],
      "text/plain": [
       "   ID PROVINCIA               COMUNE   LOCALITA  CAMERE  SUITE  LETTI  BAGNI  \\\n",
       "0   0        BS        PERTICA BASSA          0       2      0      4      1   \n",
       "1   1        BS  DESENZANO DEL GARDA          0       4      0      8      4   \n",
       "2   2        BG              BERGAMO          0       1      0      2      1   \n",
       "3   3        MN              MANTOVA  BOCCABUSA      93      2    194     96   \n",
       "4   4        MI               MILANO          0       2      0      4      1   \n",
       "\n",
       "   PRIMA_COLAZIONE  IN_ABITATO  ...  ZONA_PERIFERICA  ZONA_STAZIONE_FS  \\\n",
       "0                0         0.0  ...              0.0               0.0   \n",
       "1                0         0.0  ...              0.0               0.0   \n",
       "2                0         0.0  ...              0.0               0.0   \n",
       "3                0         0.0  ...              0.0               0.0   \n",
       "4                0         0.0  ...              0.0               0.0   \n",
       "\n",
       "                                  ATTREZZATURE_VARIE  \\\n",
       "0                                                  0   \n",
       "1                                                  0   \n",
       "2                     Accettazione animali domestici   \n",
       "3  Ascensore,Ristorante,Bar,Accettazione animali ...   \n",
       "4                                                  0   \n",
       "\n",
       "                                     CARTE_ACCETTATE  \\\n",
       "0                                                  0   \n",
       "1                                                  0   \n",
       "2                                                  0   \n",
       "3  American express,Visa,Master Card,Diners,Maest...   \n",
       "4                                                  0   \n",
       "\n",
       "                                      LINGUE_PARLATE  SPORT  \\\n",
       "0                                                  0      0   \n",
       "1                                                  0      0   \n",
       "2                                                  0      0   \n",
       "3  Inglese,Francese,Spagnolo,Tedesco,Rumeno,Serbo...      0   \n",
       "4                                                  0      0   \n",
       "\n",
       "                                           CONGRESSI LATITUDINE LONGITUDINE  \\\n",
       "0                                                  0  10.373501   45.751381   \n",
       "1                                                  0  10.538947   45.469485   \n",
       "2                                                  0   9.665355   45.704158   \n",
       "3  Numero sale congressi 3,Congressi capacita' Mi...  10.828175   45.165506   \n",
       "4                                                  0   9.151637   45.457177   \n",
       "\n",
       "              OUTPUT  \n",
       "0                B&B  \n",
       "1                B&B  \n",
       "2  Case_Appartamenti  \n",
       "3       4_a_5_Stelle  \n",
       "4  Case_Appartamenti  \n",
       "\n",
       "[5 rows x 25 columns]"
      ]
     },
     "execution_count": 8,
     "metadata": {},
     "output_type": "execute_result"
    }
   ],
   "source": [
    "df.head()"
   ]
  },
  {
   "cell_type": "markdown",
   "metadata": {},
   "source": [
    "There are some features that do not gives important information:\n",
    "Such as: ID, LOCALITA, LATITUDINE\t LONGITUDINE"
   ]
  },
  {
   "cell_type": "code",
   "execution_count": 9,
   "metadata": {},
   "outputs": [],
   "source": [
    "del df['ID']\n",
    "del df['LOCALITA']\n",
    "del df['LATITUDINE']\n",
    "del df['LONGITUDINE']\n",
    "del df['PROVINCIA']\n",
    "del df['COMUNE']"
   ]
  },
  {
   "cell_type": "code",
   "execution_count": 11,
   "metadata": {},
   "outputs": [],
   "source": [
    "dfa=df"
   ]
  },
  {
   "cell_type": "markdown",
   "metadata": {},
   "source": [
    "One-hot Encoding is a type of vector representation in which all of the elements in a vector are 0, except for one, which has 1 as its value, where 1 represents a boolean specifying a category of the element."
   ]
  },
  {
   "cell_type": "code",
   "execution_count": 12,
   "metadata": {},
   "outputs": [],
   "source": [
    "new_df = pd.concat([dfa.drop('ATTREZZATURE_VARIE', 1), dfa['ATTREZZATURE_VARIE'].str.get_dummies(sep=\",\")], 1)\n",
    "new_df2 = pd.concat([new_df.drop('CARTE_ACCETTATE', 1), new_df['CARTE_ACCETTATE'].str.get_dummies(sep=\",\")], 1)\n",
    "new_df3 = pd.concat([new_df2.drop('LINGUE_PARLATE', 1), new_df2['LINGUE_PARLATE'].str.get_dummies(sep=\",\")], 1)\n",
    "new_df4 = pd.concat([new_df3.drop('SPORT', 1), new_df3['SPORT'].str.get_dummies(sep=\",\")], 1)\n",
    "new_df5 = pd.concat([new_df4.drop('CONGRESSI', 1), new_df4['CONGRESSI'].str.get_dummies(sep=\",\")], 1)\n"
   ]
  },
  {
   "cell_type": "code",
   "execution_count": 13,
   "metadata": {},
   "outputs": [
    {
     "data": {
      "text/html": [
       "<div>\n",
       "<style scoped>\n",
       "    .dataframe tbody tr th:only-of-type {\n",
       "        vertical-align: middle;\n",
       "    }\n",
       "\n",
       "    .dataframe tbody tr th {\n",
       "        vertical-align: top;\n",
       "    }\n",
       "\n",
       "    .dataframe thead th {\n",
       "        text-align: right;\n",
       "    }\n",
       "</style>\n",
       "<table border=\"1\" class=\"dataframe\">\n",
       "  <thead>\n",
       "    <tr style=\"text-align: right;\">\n",
       "      <th></th>\n",
       "      <th>CAMERE</th>\n",
       "      <th>SUITE</th>\n",
       "      <th>LETTI</th>\n",
       "      <th>BAGNI</th>\n",
       "      <th>PRIMA_COLAZIONE</th>\n",
       "      <th>IN_ABITATO</th>\n",
       "      <th>SUL_LAGO</th>\n",
       "      <th>VICINO_ELIPORTO</th>\n",
       "      <th>VICINO_AEREOPORTO</th>\n",
       "      <th>ZONA_CENTRALE</th>\n",
       "      <th>...</th>\n",
       "      <th>Numero sale congressi 17</th>\n",
       "      <th>Numero sale congressi 2</th>\n",
       "      <th>Numero sale congressi 21</th>\n",
       "      <th>Numero sale congressi 3</th>\n",
       "      <th>Numero sale congressi 4</th>\n",
       "      <th>Numero sale congressi 5</th>\n",
       "      <th>Numero sale congressi 6</th>\n",
       "      <th>Numero sale congressi 7</th>\n",
       "      <th>Numero sale congressi 8</th>\n",
       "      <th>Numero sale congressi 9</th>\n",
       "    </tr>\n",
       "  </thead>\n",
       "  <tbody>\n",
       "    <tr>\n",
       "      <th>count</th>\n",
       "      <td>6775.000000</td>\n",
       "      <td>6775.000000</td>\n",
       "      <td>6775.000000</td>\n",
       "      <td>6775.000000</td>\n",
       "      <td>6775.000000</td>\n",
       "      <td>6775.000000</td>\n",
       "      <td>6775.000000</td>\n",
       "      <td>6775.000000</td>\n",
       "      <td>6775.000000</td>\n",
       "      <td>6775.000000</td>\n",
       "      <td>...</td>\n",
       "      <td>6775.000000</td>\n",
       "      <td>6775.000000</td>\n",
       "      <td>6775.000000</td>\n",
       "      <td>6775.000000</td>\n",
       "      <td>6775.00000</td>\n",
       "      <td>6775.000000</td>\n",
       "      <td>6775.000000</td>\n",
       "      <td>6775.000000</td>\n",
       "      <td>6775.000000</td>\n",
       "      <td>6775.000000</td>\n",
       "    </tr>\n",
       "    <tr>\n",
       "      <th>mean</th>\n",
       "      <td>16.261550</td>\n",
       "      <td>0.455646</td>\n",
       "      <td>35.002509</td>\n",
       "      <td>13.620517</td>\n",
       "      <td>0.101402</td>\n",
       "      <td>0.083542</td>\n",
       "      <td>0.052546</td>\n",
       "      <td>0.000590</td>\n",
       "      <td>0.027897</td>\n",
       "      <td>0.099041</td>\n",
       "      <td>...</td>\n",
       "      <td>0.000295</td>\n",
       "      <td>0.008413</td>\n",
       "      <td>0.000148</td>\n",
       "      <td>0.004428</td>\n",
       "      <td>0.00428</td>\n",
       "      <td>0.001624</td>\n",
       "      <td>0.001328</td>\n",
       "      <td>0.001181</td>\n",
       "      <td>0.000886</td>\n",
       "      <td>0.000738</td>\n",
       "    </tr>\n",
       "    <tr>\n",
       "      <th>std</th>\n",
       "      <td>35.859435</td>\n",
       "      <td>3.592147</td>\n",
       "      <td>93.538492</td>\n",
       "      <td>29.174499</td>\n",
       "      <td>0.301883</td>\n",
       "      <td>0.276721</td>\n",
       "      <td>0.223142</td>\n",
       "      <td>0.024293</td>\n",
       "      <td>0.164689</td>\n",
       "      <td>0.298739</td>\n",
       "      <td>...</td>\n",
       "      <td>0.017180</td>\n",
       "      <td>0.091344</td>\n",
       "      <td>0.012149</td>\n",
       "      <td>0.066401</td>\n",
       "      <td>0.06529</td>\n",
       "      <td>0.040264</td>\n",
       "      <td>0.036426</td>\n",
       "      <td>0.034345</td>\n",
       "      <td>0.029748</td>\n",
       "      <td>0.027158</td>\n",
       "    </tr>\n",
       "    <tr>\n",
       "      <th>min</th>\n",
       "      <td>0.000000</td>\n",
       "      <td>0.000000</td>\n",
       "      <td>0.000000</td>\n",
       "      <td>0.000000</td>\n",
       "      <td>0.000000</td>\n",
       "      <td>0.000000</td>\n",
       "      <td>0.000000</td>\n",
       "      <td>0.000000</td>\n",
       "      <td>0.000000</td>\n",
       "      <td>0.000000</td>\n",
       "      <td>...</td>\n",
       "      <td>0.000000</td>\n",
       "      <td>0.000000</td>\n",
       "      <td>0.000000</td>\n",
       "      <td>0.000000</td>\n",
       "      <td>0.00000</td>\n",
       "      <td>0.000000</td>\n",
       "      <td>0.000000</td>\n",
       "      <td>0.000000</td>\n",
       "      <td>0.000000</td>\n",
       "      <td>0.000000</td>\n",
       "    </tr>\n",
       "    <tr>\n",
       "      <th>25%</th>\n",
       "      <td>2.000000</td>\n",
       "      <td>0.000000</td>\n",
       "      <td>4.000000</td>\n",
       "      <td>1.000000</td>\n",
       "      <td>0.000000</td>\n",
       "      <td>0.000000</td>\n",
       "      <td>0.000000</td>\n",
       "      <td>0.000000</td>\n",
       "      <td>0.000000</td>\n",
       "      <td>0.000000</td>\n",
       "      <td>...</td>\n",
       "      <td>0.000000</td>\n",
       "      <td>0.000000</td>\n",
       "      <td>0.000000</td>\n",
       "      <td>0.000000</td>\n",
       "      <td>0.00000</td>\n",
       "      <td>0.000000</td>\n",
       "      <td>0.000000</td>\n",
       "      <td>0.000000</td>\n",
       "      <td>0.000000</td>\n",
       "      <td>0.000000</td>\n",
       "    </tr>\n",
       "    <tr>\n",
       "      <th>50%</th>\n",
       "      <td>4.000000</td>\n",
       "      <td>0.000000</td>\n",
       "      <td>8.000000</td>\n",
       "      <td>3.000000</td>\n",
       "      <td>0.000000</td>\n",
       "      <td>0.000000</td>\n",
       "      <td>0.000000</td>\n",
       "      <td>0.000000</td>\n",
       "      <td>0.000000</td>\n",
       "      <td>0.000000</td>\n",
       "      <td>...</td>\n",
       "      <td>0.000000</td>\n",
       "      <td>0.000000</td>\n",
       "      <td>0.000000</td>\n",
       "      <td>0.000000</td>\n",
       "      <td>0.00000</td>\n",
       "      <td>0.000000</td>\n",
       "      <td>0.000000</td>\n",
       "      <td>0.000000</td>\n",
       "      <td>0.000000</td>\n",
       "      <td>0.000000</td>\n",
       "    </tr>\n",
       "    <tr>\n",
       "      <th>75%</th>\n",
       "      <td>14.000000</td>\n",
       "      <td>0.000000</td>\n",
       "      <td>25.000000</td>\n",
       "      <td>12.000000</td>\n",
       "      <td>0.000000</td>\n",
       "      <td>0.000000</td>\n",
       "      <td>0.000000</td>\n",
       "      <td>0.000000</td>\n",
       "      <td>0.000000</td>\n",
       "      <td>0.000000</td>\n",
       "      <td>...</td>\n",
       "      <td>0.000000</td>\n",
       "      <td>0.000000</td>\n",
       "      <td>0.000000</td>\n",
       "      <td>0.000000</td>\n",
       "      <td>0.00000</td>\n",
       "      <td>0.000000</td>\n",
       "      <td>0.000000</td>\n",
       "      <td>0.000000</td>\n",
       "      <td>0.000000</td>\n",
       "      <td>0.000000</td>\n",
       "    </tr>\n",
       "    <tr>\n",
       "      <th>max</th>\n",
       "      <td>528.000000</td>\n",
       "      <td>110.000000</td>\n",
       "      <td>1816.000000</td>\n",
       "      <td>448.000000</td>\n",
       "      <td>1.000000</td>\n",
       "      <td>1.000000</td>\n",
       "      <td>1.000000</td>\n",
       "      <td>1.000000</td>\n",
       "      <td>1.000000</td>\n",
       "      <td>1.000000</td>\n",
       "      <td>...</td>\n",
       "      <td>1.000000</td>\n",
       "      <td>1.000000</td>\n",
       "      <td>1.000000</td>\n",
       "      <td>1.000000</td>\n",
       "      <td>1.00000</td>\n",
       "      <td>1.000000</td>\n",
       "      <td>1.000000</td>\n",
       "      <td>1.000000</td>\n",
       "      <td>1.000000</td>\n",
       "      <td>1.000000</td>\n",
       "    </tr>\n",
       "  </tbody>\n",
       "</table>\n",
       "<p>8 rows × 308 columns</p>\n",
       "</div>"
      ],
      "text/plain": [
       "            CAMERE        SUITE        LETTI        BAGNI  PRIMA_COLAZIONE  \\\n",
       "count  6775.000000  6775.000000  6775.000000  6775.000000      6775.000000   \n",
       "mean     16.261550     0.455646    35.002509    13.620517         0.101402   \n",
       "std      35.859435     3.592147    93.538492    29.174499         0.301883   \n",
       "min       0.000000     0.000000     0.000000     0.000000         0.000000   \n",
       "25%       2.000000     0.000000     4.000000     1.000000         0.000000   \n",
       "50%       4.000000     0.000000     8.000000     3.000000         0.000000   \n",
       "75%      14.000000     0.000000    25.000000    12.000000         0.000000   \n",
       "max     528.000000   110.000000  1816.000000   448.000000         1.000000   \n",
       "\n",
       "        IN_ABITATO     SUL_LAGO  VICINO_ELIPORTO  VICINO_AEREOPORTO  \\\n",
       "count  6775.000000  6775.000000      6775.000000        6775.000000   \n",
       "mean      0.083542     0.052546         0.000590           0.027897   \n",
       "std       0.276721     0.223142         0.024293           0.164689   \n",
       "min       0.000000     0.000000         0.000000           0.000000   \n",
       "25%       0.000000     0.000000         0.000000           0.000000   \n",
       "50%       0.000000     0.000000         0.000000           0.000000   \n",
       "75%       0.000000     0.000000         0.000000           0.000000   \n",
       "max       1.000000     1.000000         1.000000           1.000000   \n",
       "\n",
       "       ZONA_CENTRALE  ...  Numero sale congressi 17  Numero sale congressi 2  \\\n",
       "count    6775.000000  ...               6775.000000              6775.000000   \n",
       "mean        0.099041  ...                  0.000295                 0.008413   \n",
       "std         0.298739  ...                  0.017180                 0.091344   \n",
       "min         0.000000  ...                  0.000000                 0.000000   \n",
       "25%         0.000000  ...                  0.000000                 0.000000   \n",
       "50%         0.000000  ...                  0.000000                 0.000000   \n",
       "75%         0.000000  ...                  0.000000                 0.000000   \n",
       "max         1.000000  ...                  1.000000                 1.000000   \n",
       "\n",
       "       Numero sale congressi 21  Numero sale congressi 3  \\\n",
       "count               6775.000000              6775.000000   \n",
       "mean                   0.000148                 0.004428   \n",
       "std                    0.012149                 0.066401   \n",
       "min                    0.000000                 0.000000   \n",
       "25%                    0.000000                 0.000000   \n",
       "50%                    0.000000                 0.000000   \n",
       "75%                    0.000000                 0.000000   \n",
       "max                    1.000000                 1.000000   \n",
       "\n",
       "       Numero sale congressi 4  Numero sale congressi 5  \\\n",
       "count               6775.00000              6775.000000   \n",
       "mean                   0.00428                 0.001624   \n",
       "std                    0.06529                 0.040264   \n",
       "min                    0.00000                 0.000000   \n",
       "25%                    0.00000                 0.000000   \n",
       "50%                    0.00000                 0.000000   \n",
       "75%                    0.00000                 0.000000   \n",
       "max                    1.00000                 1.000000   \n",
       "\n",
       "       Numero sale congressi 6  Numero sale congressi 7  \\\n",
       "count              6775.000000              6775.000000   \n",
       "mean                  0.001328                 0.001181   \n",
       "std                   0.036426                 0.034345   \n",
       "min                   0.000000                 0.000000   \n",
       "25%                   0.000000                 0.000000   \n",
       "50%                   0.000000                 0.000000   \n",
       "75%                   0.000000                 0.000000   \n",
       "max                   1.000000                 1.000000   \n",
       "\n",
       "       Numero sale congressi 8  Numero sale congressi 9  \n",
       "count              6775.000000              6775.000000  \n",
       "mean                  0.000886                 0.000738  \n",
       "std                   0.029748                 0.027158  \n",
       "min                   0.000000                 0.000000  \n",
       "25%                   0.000000                 0.000000  \n",
       "50%                   0.000000                 0.000000  \n",
       "75%                   0.000000                 0.000000  \n",
       "max                   1.000000                 1.000000  \n",
       "\n",
       "[8 rows x 308 columns]"
      ]
     },
     "execution_count": 13,
     "metadata": {},
     "output_type": "execute_result"
    }
   ],
   "source": [
    "new_df5.describe()"
   ]
  },
  {
   "cell_type": "markdown",
   "metadata": {},
   "source": [
    "Encode The Output Variable The output variable contains different string values.\n",
    "\n",
    "When modeling multi-class classification problems using neural networks, it is good practice to reshape the output attribute from a vector that contains values for each class value to be a matrix with a boolean for each class value and whether or not a given instance has that class value or not."
   ]
  },
  {
   "cell_type": "code",
   "execution_count": 14,
   "metadata": {},
   "outputs": [],
   "source": [
    "new_df6 = pd.concat([new_df5.drop('OUTPUT', 1), new_df5['OUTPUT'].str.get_dummies(sep=\",\")], 1)"
   ]
  },
  {
   "cell_type": "markdown",
   "metadata": {},
   "source": []
  },
  {
   "cell_type": "code",
   "execution_count": 15,
   "metadata": {
    "scrolled": true
   },
   "outputs": [
    {
     "data": {
      "text/plain": [
       "CAMERE               int64\n",
       "SUITE                int64\n",
       "LETTI                int64\n",
       "BAGNI                int64\n",
       "PRIMA_COLAZIONE      int64\n",
       "                     ...  \n",
       "1_a_3_Stelle         int64\n",
       "4_a_5_Stelle         int64\n",
       "B&B                  int64\n",
       "Campeggio            int64\n",
       "Case_Appartamenti    int64\n",
       "Length: 313, dtype: object"
      ]
     },
     "execution_count": 15,
     "metadata": {},
     "output_type": "execute_result"
    }
   ],
   "source": [
    "new_df6.dtypes"
   ]
  },
  {
   "cell_type": "markdown",
   "metadata": {},
   "source": [
    "We have now all our fetures numeric we can use it."
   ]
  },
  {
   "cell_type": "markdown",
   "metadata": {},
   "source": [
    "We have several fetures. we can **REDUCE** the dimensions by using Principal Component Analysis ( **PCA** )but for lack of time, we just show the standard procedure to classify with the current status of the dataset."
   ]
  },
  {
   "cell_type": "markdown",
   "metadata": {},
   "source": [
    "## 3. MODEL CREATION"
   ]
  },
  {
   "cell_type": "code",
   "execution_count": 17,
   "metadata": {},
   "outputs": [],
   "source": [
    "dataset=new_df6.to_numpy()"
   ]
  },
  {
   "cell_type": "code",
   "execution_count": 18,
   "metadata": {},
   "outputs": [],
   "source": [
    "X = dataset[:,0:308].astype(float)"
   ]
  },
  {
   "cell_type": "code",
   "execution_count": 19,
   "metadata": {},
   "outputs": [
    {
     "data": {
      "text/plain": [
       "6775"
      ]
     },
     "execution_count": 19,
     "metadata": {},
     "output_type": "execute_result"
    }
   ],
   "source": [
    "len(X)"
   ]
  },
  {
   "cell_type": "code",
   "execution_count": 20,
   "metadata": {},
   "outputs": [],
   "source": [
    "Y = dataset[:,308:]"
   ]
  },
  {
   "cell_type": "code",
   "execution_count": 21,
   "metadata": {},
   "outputs": [
    {
     "data": {
      "text/plain": [
       "6775"
      ]
     },
     "execution_count": 21,
     "metadata": {},
     "output_type": "execute_result"
    }
   ],
   "source": [
    "len(Y)"
   ]
  },
  {
   "cell_type": "markdown",
   "metadata": {},
   "source": [
    "The Keras library provides wrapper classes to allow you to use neural network models developed with Keras in scikit-learn.\n",
    "\n",
    "There is a KerasClassifier class in Keras that can be used as an Estimator in scikit-learn, the base type of model in the library. The KerasClassifier takes the name of a function as an argument. This function must return the constructed neural network model, ready for training.\n",
    "\n",
    "Below is a function that will create a baseline neural network for the Accomodation classification problem. \n",
    "It creates a simple fully connected network with one hidden layer that contains 616 neurons.\n",
    "\n",
    "The hidden layer uses a rectifier activation function which is a good practice. Because we used a one-hot encoding for our  dataset, the output layer must create 5 output values, one for each class. The output value with the largest value will be taken as the class predicted by the model.\n",
    "\n",
    "The network topology of this simple one-layer neural network can be summarized as:\n",
    "\n",
    "308 inputs -> [616 hidden nodes] -> 5 outputs\n",
    "\n",
    "Note that we use a “softmax” activation function in the output layer. This is to ensure the output values are in the range of 0 and 1 and may be used as predicted probabilities.\n",
    "\n",
    "Finally, the network uses the efficient Adam gradient descent optimization algorithm with a logarithmic loss function, which is called “categorical_crossentropy” in Keras."
   ]
  },
  {
   "cell_type": "code",
   "execution_count": 23,
   "metadata": {},
   "outputs": [],
   "source": [
    "seed = 7"
   ]
  },
  {
   "cell_type": "code",
   "execution_count": 24,
   "metadata": {},
   "outputs": [],
   "source": [
    "x_train, x_test, y_train, y_test = train_test_split(X, Y, train_size=0.8, random_state=seed)"
   ]
  },
  {
   "cell_type": "code",
   "execution_count": 25,
   "metadata": {},
   "outputs": [],
   "source": [
    "x_train, x_val, y_train, y_val = train_test_split(x_train, y_train, train_size=0.8, random_state=seed)"
   ]
  },
  {
   "cell_type": "markdown",
   "metadata": {},
   "source": [
    "The hyperparameteres were computed in the optional section by using GridCSV"
   ]
  },
  {
   "cell_type": "markdown",
   "metadata": {},
   "source": [
    "Best: 0.880295 using {'batch_size': 80, 'epochs': 200}"
   ]
  },
  {
   "cell_type": "code",
   "execution_count": 26,
   "metadata": {},
   "outputs": [],
   "source": [
    "model = Sequential()\n",
    "model.add(Dense(616,activation='relu',input_shape = (308,)))\n",
    "model.add(Dense(5,activation='softmax'))\n",
    "model.compile(optimizer = 'adam',\n",
    "             loss='categorical_crossentropy',\n",
    "             metrics=['accuracy'])\n"
   ]
  },
  {
   "cell_type": "code",
   "execution_count": 27,
   "metadata": {},
   "outputs": [],
   "source": [
    "history = model.fit(x_train, \n",
    "                    y_train,\n",
    "                    epochs = 200,\n",
    "                    batch_size = 80,\n",
    "                    verbose=0,\n",
    "                    validation_data=(x_val,y_val))"
   ]
  },
  {
   "cell_type": "markdown",
   "metadata": {},
   "source": [
    "## 4. RESULTS"
   ]
  },
  {
   "cell_type": "markdown",
   "metadata": {},
   "source": [
    "We define some programs to visualize the results\n",
    "Plot History : plot loss and accuracy from the history \n",
    "Full Report : print a full report and plot a confusion matrix \n"
   ]
  },
  {
   "cell_type": "code",
   "execution_count": 29,
   "metadata": {},
   "outputs": [],
   "source": [
    "def plot_history(history):\n",
    "    loss_list = [s for s in history.history.keys() if 'loss' in s and 'val' not in s]\n",
    "    val_loss_list = [s for s in history.history.keys() if 'loss' in s and 'val' in s]\n",
    "    acc_list = [s for s in history.history.keys() if 'acc' in s and 'val' not in s]\n",
    "    val_acc_list = [s for s in history.history.keys() if 'acc' in s and 'val' in s]\n",
    "    \n",
    "    if len(loss_list) == 0:\n",
    "        print('Loss is missing in history')\n",
    "        return \n",
    "    \n",
    "    ## As loss always exists\n",
    "    epochs = range(1,len(history.history[loss_list[0]]) + 1)\n",
    "    \n",
    "    ## Loss\n",
    "    plt.figure(1)\n",
    "    for l in loss_list:\n",
    "        plt.plot(epochs, history.history[l], 'b', label='Training loss (' + str(str(format(history.history[l][-1],'.5f'))+')'))\n",
    "    for l in val_loss_list:\n",
    "        plt.plot(epochs, history.history[l], 'g', label='Validation loss (' + str(str(format(history.history[l][-1],'.5f'))+')'))\n",
    "    \n",
    "    plt.title('Loss')\n",
    "    plt.xlabel('Epochs')\n",
    "    plt.ylabel('Loss')\n",
    "    plt.legend()\n",
    "    \n",
    "    ## Accuracy\n",
    "    plt.figure(2)\n",
    "    for l in acc_list:\n",
    "        plt.plot(epochs, history.history[l], 'b', label='Training accuracy (' + str(format(history.history[l][-1],'.5f'))+')')\n",
    "    for l in val_acc_list:    \n",
    "        plt.plot(epochs, history.history[l], 'g', label='Validation accuracy (' + str(format(history.history[l][-1],'.5f'))+')')\n",
    "\n",
    "    plt.title('Accuracy')\n",
    "    plt.xlabel('Epochs')\n",
    "    plt.ylabel('Accuracy')\n",
    "    plt.legend()\n",
    "    plt.show()"
   ]
  },
  {
   "cell_type": "code",
   "execution_count": 30,
   "metadata": {},
   "outputs": [],
   "source": [
    "def plot_confusion_matrix(cm, classes,\n",
    "                          normalize=False,\n",
    "                          cmap=plt.cm.Blues):\n",
    "    \"\"\"\n",
    "    This function prints and plots the confusion matrix.\n",
    "    Normalization can be applied by setting `normalize=True`.\n",
    "    \"\"\"\n",
    "    if normalize:\n",
    "        cm = cm.astype('float') / cm.sum(axis=1)[:, np.newaxis]\n",
    "        title='Normalized confusion matrix'\n",
    "    else:\n",
    "        title='Confusion matrix'\n",
    "\n",
    "    plt.imshow(cm, interpolation='nearest', cmap=cmap)\n",
    "    plt.title(title)\n",
    "    plt.colorbar()\n",
    "    tick_marks = np.arange(len(classes))\n",
    "    plt.xticks(tick_marks, classes, rotation=45)\n",
    "    plt.yticks(tick_marks, classes)\n",
    "\n",
    "    fmt = '.2f' if normalize else 'd'\n",
    "    thresh = cm.max() / 2.\n",
    "    for i, j in itertools.product(range(cm.shape[0]), range(cm.shape[1])):\n",
    "        plt.text(j, i, format(cm[i, j], fmt),\n",
    "                 horizontalalignment=\"center\",\n",
    "                 color=\"white\" if cm[i, j] > thresh else \"black\")\n",
    "\n",
    "    plt.tight_layout()\n",
    "    plt.ylabel('True label')\n",
    "    plt.xlabel('Predicted label')\n",
    "    plt.show()\n",
    "    \n",
    "## multiclass or binary report\n",
    "## If binary (sigmoid output), set binary parameter to True\n",
    "def full_multiclass_report(model,\n",
    "                           x,\n",
    "                           y_true,\n",
    "                           classes,\n",
    "                           batch_size=32,\n",
    "                           binary=False):\n",
    "\n",
    "    # 1. Transform one-hot encoded y_true into their class number\n",
    "    if not binary:\n",
    "        y_true = np.argmax(y_true,axis=1)\n",
    "    \n",
    "    # 2. Predict classes and stores in y_pred\n",
    "    y_pred = model.predict_classes(x, batch_size=batch_size)\n",
    "    \n",
    "    # 3. Print accuracy score\n",
    "    print(\"Accuracy : \"+ str(accuracy_score(y_true,y_pred)))\n",
    "    \n",
    "    print(\"\")\n",
    "    \n",
    "    # 4. Print classification report\n",
    "    print(\"Classification Report\")\n",
    "    print(classification_report(y_true,y_pred,digits=5))    \n",
    "    \n",
    "    # 5. Plot confusion matrix\n",
    "    cnf_matrix = confusion_matrix(y_true,y_pred)\n",
    "    print(cnf_matrix)\n",
    "    plot_confusion_matrix(cnf_matrix,classes=classes)"
   ]
  },
  {
   "cell_type": "markdown",
   "metadata": {},
   "source": [
    "###  Results "
   ]
  },
  {
   "cell_type": "code",
   "execution_count": 31,
   "metadata": {},
   "outputs": [
    {
     "data": {
      "image/png": "[encoded data removed]",
      "text/plain": [
       "<Figure size 432x288 with 1 Axes>"
      ]
     },
     "metadata": {
      "needs_background": "light"
     },
     "output_type": "display_data"
    },
    {
     "data": {
      "image/png": "[encoded data removed]",
      "text/plain": [
       "<Figure size 432x288 with 1 Axes>"
      ]
     },
     "metadata": {
      "needs_background": "light"
     },
     "output_type": "display_data"
    }
   ],
   "source": [
    "plot_history(history)"
   ]
  },
  {
   "cell_type": "code",
   "execution_count": null,
   "metadata": {
    "scrolled": true
   },
   "outputs": [],
   "source": []
  },
  {
   "cell_type": "code",
   "execution_count": null,
   "metadata": {},
   "outputs": [],
   "source": []
  },
  {
   "cell_type": "code",
   "execution_count": 48,
   "metadata": {},
   "outputs": [],
   "source": [
    "labels=list(new_df6.columns)[308:] "
   ]
  },
  {
   "cell_type": "code",
   "execution_count": 49,
   "metadata": {},
   "outputs": [
    {
     "data": {
      "text/plain": [
       "['1_a_3_Stelle', '4_a_5_Stelle', 'B&B', 'Campeggio', 'Case_Appartamenti']"
      ]
     },
     "execution_count": 49,
     "metadata": {},
     "output_type": "execute_result"
    }
   ],
   "source": [
    "labels"
   ]
  },
  {
   "cell_type": "code",
   "execution_count": 50,
   "metadata": {},
   "outputs": [
    {
     "name": "stdout",
     "output_type": "stream",
     "text": [
      "WARNING:tensorflow:From <ipython-input-30-3b4d949a528c>:47: Sequential.predict_classes (from tensorflow.python.keras.engine.sequential) is deprecated and will be removed after 2021-01-01.\n",
      "Instructions for updating:\n",
      "Please use instead:* `np.argmax(model.predict(x), axis=-1)`,   if your model does multi-class classification   (e.g. if it uses a `softmax` last-layer activation).* `(model.predict(x) > 0.5).astype(\"int32\")`,   if your model does binary classification   (e.g. if it uses a `sigmoid` last-layer activation).\n",
      "Accuracy : 0.8726937269372693\n",
      "\n",
      "Classification Report\n",
      "              precision    recall  f1-score   support\n",
      "\n",
      "           0    0.86364   0.86008   0.86186       243\n",
      "           1    0.61111   0.59459   0.60274        74\n",
      "           2    0.93651   0.81944   0.87407       288\n",
      "           3    1.00000   0.82353   0.90323        17\n",
      "           4    0.87897   0.95887   0.91718       462\n",
      "\n",
      "    accuracy                        0.87269      1084\n",
      "   macro avg    0.85804   0.81131   0.83182      1084\n",
      "weighted avg    0.87443   0.87269   0.87164      1084\n",
      "\n",
      "[[209  28   0   0   6]\n",
      " [ 28  44   0   0   2]\n",
      " [  0   0 236   0  52]\n",
      " [  1   0   1  14   1]\n",
      " [  4   0  15   0 443]]\n"
     ]
    },
    {
     "data": {
      "image/png": "[encoded data removed]",
      "text/plain": [
       "<Figure size 432x288 with 2 Axes>"
      ]
     },
     "metadata": {
      "needs_background": "light"
     },
     "output_type": "display_data"
    }
   ],
   "source": [
    "full_multiclass_report(model,\n",
    "                       x_val,\n",
    "                       y_val,\n",
    "                       labels\n",
    "                      )"
   ]
  },
  {
   "cell_type": "markdown",
   "metadata": {},
   "source": [
    "## Additional comments"
   ]
  },
  {
   "cell_type": "markdown",
   "metadata": {},
   "source": [
    "The results can be improved by using PCA and a Grid Search.\n",
    "GridSearchCV resolve the issue relative to the multiclass models when using custom scoring, find the best hyperparameters."
   ]
  },
  {
   "cell_type": "code",
   "execution_count": 52,
   "metadata": {},
   "outputs": [],
   "source": [
    "from keras.models import Sequential\n",
    "from keras.layers import Dense\n",
    "from keras.utils import np_utils\n",
    "from keras.wrappers.scikit_learn import KerasClassifier\n",
    "import numpy\n",
    "import pandas as pd\n",
    "from sklearn.preprocessing import LabelEncoder\n",
    "from sklearn.model_selection import GridSearchCV"
   ]
  },
  {
   "cell_type": "code",
   "execution_count": 53,
   "metadata": {},
   "outputs": [],
   "source": [
    "def create_model():\n",
    "    # create model\n",
    "    model = Sequential()\n",
    "    model.add(Dense(2*308, input_dim=308, activation='relu'))\n",
    "    model.add(Dense(5, activation='softmax'))\n",
    "    # Compile model\n",
    "    model.compile(loss='categorical_crossentropy', optimizer='adam', metrics=['accuracy'])\n",
    "    return model\n"
   ]
  },
  {
   "cell_type": "code",
   "execution_count": null,
   "metadata": {},
   "outputs": [],
   "source": [
    "# fix random seed for reproducibility\n",
    "seed = 7\n",
    "numpy.random.seed(seed)"
   ]
  },
  {
   "cell_type": "code",
   "execution_count": 54,
   "metadata": {},
   "outputs": [],
   "source": [
    "# create model\n",
    "model = KerasClassifier(build_fn=create_model, verbose=0)\n",
    "# define the grid search parameters\n",
    "batch_size = [5, 10, 20, 40, 60, 80, 100]\n",
    "epochs = [10, 50, 100, 200]\n",
    "param_grid = dict(batch_size=batch_size, epochs=epochs)\n",
    "grid = GridSearchCV(estimator=model, param_grid=param_grid, n_jobs=1)"
   ]
  },
  {
   "cell_type": "code",
   "execution_count": 55,
   "metadata": {},
   "outputs": [],
   "source": [
    "from sklearn.utils import shuffle"
   ]
  },
  {
   "cell_type": "code",
   "execution_count": 56,
   "metadata": {},
   "outputs": [],
   "source": [
    "X, Y = shuffle(X, Y)"
   ]
  },
  {
   "cell_type": "code",
   "execution_count": null,
   "metadata": {},
   "outputs": [],
   "source": [
    "grid_result = grid.fit(X, Y)"
   ]
  },
  {
   "cell_type": "code",
   "execution_count": null,
   "metadata": {},
   "outputs": [],
   "source": [
    "# summarize results\n",
    "print(\"Best: %f using %s\" % (grid_result.best_score_, grid_result.best_params_))\n",
    "means = grid_result.cv_results_['mean_test_score']\n",
    "stds = grid_result.cv_results_['std_test_score']\n",
    "params = grid_result.cv_results_['params']\n",
    "for mean, stdev, param in zip(means, stds, params):\n",
    "    print(\"%f (%f) with: %r\" % (mean, stdev, param))"
   ]
  },
  {
   "cell_type": "markdown",
   "metadata": {},
   "source": [
    "Best: 0.880295 using {'batch_size': 80, 'epochs': 200}"
   ]
  },
  {
   "cell_type": "markdown",
   "metadata": {},
   "source": [
    "which are the hyperparemetes used before."
   ]
  },
  {
   "cell_type": "markdown",
   "metadata": {},
   "source": [
    "Greetings"
   ]
  },
  {
   "cell_type": "code",
   "execution_count": null,
   "metadata": {},
   "outputs": [],
   "source": []
  }
 ],
 "metadata": {
  "kernelspec": {
   "display_name": "Python 3",
   "language": "python",
   "name": "python3"
  },
  "language_info": {
   "codemirror_mode": {
    "name": "ipython",
    "version": 3
   },
   "file_extension": ".py",
   "mimetype": "text/x-python",
   "name": "python",
   "nbconvert_exporter": "python",
   "pygments_lexer": "ipython3",
   "version": "3.8.3"
  }
 },
 "nbformat": 4,
 "nbformat_minor": 4
}
